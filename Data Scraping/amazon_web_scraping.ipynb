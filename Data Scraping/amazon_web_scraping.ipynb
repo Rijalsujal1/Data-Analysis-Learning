{
 "cells": [
  {
   "cell_type": "code",
   "execution_count": 1,
   "id": "16bea904",
   "metadata": {},
   "outputs": [],
   "source": [
    "from bs4 import BeautifulSoup\n",
    "import requests\n",
    "import time\n",
    "import datetime\n",
    "\n",
    "import smtplib"
   ]
  },
  {
   "cell_type": "code",
   "execution_count": 2,
   "id": "b790c378",
   "metadata": {},
   "outputs": [
    {
     "name": "stdout",
     "output_type": "stream",
     "text": [
      "Foods & Flavors from Nepal\n",
      "20.80\n"
     ]
    }
   ],
   "source": [
    "# Connecting to the Website to get gata\n",
    "\n",
    "URL = 'https://www.amazon.com/Foods-Flavors-Nepal-Jyoti-Pathak/dp/0781814375/ref=sr_1_3?sr=8-3'\n",
    "\n",
    "headers = {\"User-Agent\": \"Mozilla/5.0 (Windows NT 10.0; Win64; x64) AppleWebKit/537.36 (KHTML, like Gecko) Chrome/78.0.3904.108 Safari/537.36\", \"Accept-Encoding\":\"gzip, deflate\", \"Accept\":\"text/html,application/xhtml+xml,application/xml;q=0.9,*/*;q=0.8\", \"DNT\":\"1\",\"Connection\":\"close\", \"Upgrade-Insecure-Requests\":\"1\"}\n",
    "\n",
    "page = requests.get(URL, headers=headers)\n",
    "\n",
    "soup1 = BeautifulSoup(page.content, \"html.parser\")\n",
    "\n",
    "soup2 = BeautifulSoup(soup1.prettify(), \"html.parser\")\n",
    "\n",
    "title = soup2.find(id='productTitle').get_text().strip()\n",
    "\n",
    "# price = soup2.find(id='priceblock_ourprice').get_text()\n",
    "\n",
    "\n",
    "print(title)\n",
    "\n",
    "whole = soup2.find(\"span\", class_=\"a-price-whole\")\n",
    "fraction = soup2.find(\"span\", class_=\"a-price-fraction\")\n",
    "\n",
    "if whole and fraction:\n",
    "    # Clean and combine the price parts\n",
    "    whole_clean = whole.get_text(strip=True).replace(\".\", \"\")  # remove commas if present\n",
    "    fraction_clean = fraction.get_text(strip=True)\n",
    "    price = f\"{whole_clean}.{fraction_clean}\"\n",
    "    print(price)\n",
    "else:\n",
    "    print(\"Price not found\")"
   ]
  },
  {
   "cell_type": "code",
   "execution_count": 3,
   "id": "fcd461e2",
   "metadata": {},
   "outputs": [
    {
     "name": "stdout",
     "output_type": "stream",
     "text": [
      "2025-07-01\n"
     ]
    }
   ],
   "source": [
    "# Create a Timestamp for your output to track when data was collected\n",
    "\n",
    "import datetime\n",
    "\n",
    "today = datetime.date.today()\n",
    "\n",
    "print(today)"
   ]
  },
  {
   "cell_type": "code",
   "execution_count": 4,
   "id": "e4ebfba9",
   "metadata": {},
   "outputs": [],
   "source": [
    "import csv\n",
    "\n",
    "header = ['Title', 'Price','Date']\n",
    "data = [title, price,today]\n",
    "\n",
    "with open('DataSet.csv','w',newline='', encoding ='UTF8') as f:\n",
    "    writer = csv.writer(f)\n",
    "    writer.writerow(header)\n",
    "    writer.writerow(data)"
   ]
  },
  {
   "cell_type": "code",
   "execution_count": 5,
   "id": "f04664fa",
   "metadata": {},
   "outputs": [
    {
     "name": "stdout",
     "output_type": "stream",
     "text": [
      "                        Title  Price        Date\n",
      "0  Foods & Flavors from Nepal   20.8  2025-07-01\n"
     ]
    }
   ],
   "source": [
    "import pandas as pd\n",
    "\n",
    "df= pd.read_csv('DataSet.csv')\n",
    "print(df)"
   ]
  },
  {
   "cell_type": "code",
   "execution_count": 6,
   "id": "8bf81132",
   "metadata": {},
   "outputs": [],
   "source": [
    "#Now we are appending data to the csv\n",
    "\n",
    "with open('DataSet.csv','a+',newline='', encoding ='UTF8') as f:\n",
    "    writer = csv.writer(f)\n",
    "    writer.writerow(data)"
   ]
  },
  {
   "cell_type": "code",
   "execution_count": 7,
   "id": "5e873d69",
   "metadata": {},
   "outputs": [],
   "source": [
    "def check_price():\n",
    "    # Connecting to the Website to get gata\n",
    "\n",
    "    URL = 'https://www.amazon.com/Foods-Flavors-Nepal-Jyoti-Pathak/dp/0781814375/ref=sr_1_3?sr=8-3'\n",
    "\n",
    "    headers = {\"User-Agent\": \"Mozilla/5.0 (Windows NT 10.0; Win64; x64) AppleWebKit/537.36 (KHTML, like Gecko) Chrome/78.0.3904.108 Safari/537.36\", \"Accept-Encoding\":\"gzip, deflate\", \"Accept\":\"text/html,application/xhtml+xml,application/xml;q=0.9,*/*;q=0.8\", \"DNT\":\"1\",\"Connection\":\"close\", \"Upgrade-Insecure-Requests\":\"1\"}\n",
    "\n",
    "    page = requests.get(URL, headers=headers)\n",
    "\n",
    "    soup1 = BeautifulSoup(page.content, \"html.parser\")\n",
    "\n",
    "    soup2 = BeautifulSoup(soup1.prettify(), \"html.parser\")\n",
    "\n",
    "    title = soup2.find(id='productTitle').get_text().strip()\n",
    "\n",
    "    # price = soup2.find(id='priceblock_ourprice').get_text()\n",
    "\n",
    "\n",
    "    print(title)\n",
    "\n",
    "    whole = soup2.find(\"span\", class_=\"a-price-whole\")\n",
    "    fraction = soup2.find(\"span\", class_=\"a-price-fraction\")\n",
    "\n",
    "    if whole and fraction:\n",
    "        # Clean and combine the price parts\n",
    "        whole_clean = whole.get_text(strip=True).replace(\".\", \"\")  # remove commas if present\n",
    "        fraction_clean = fraction.get_text(strip=True)\n",
    "        price = f\"{whole_clean}.{fraction_clean}\"\n",
    "        print(price)\n",
    "    else:\n",
    "        print(\"Price not found\")\n",
    "\n",
    "    import datetime\n",
    "    today = datetime.date.today()\n",
    "\n",
    "    with open('DataSet.csv','a+',newline='', encoding ='UTF8') as f:\n",
    "        writer = csv.writer(f)\n",
    "        writer.writerow(data)\n",
    "\n"
   ]
  },
  {
   "cell_type": "code",
   "execution_count": null,
   "id": "43ac7094",
   "metadata": {},
   "outputs": [
    {
     "name": "stdout",
     "output_type": "stream",
     "text": [
      "Foods & Flavors from Nepal\n",
      "20.80\n"
     ]
    }
   ],
   "source": [
    "while(True):\n",
    "    check_price()\n",
    "    time.sleep(86400)"
   ]
  },
  {
   "cell_type": "code",
   "execution_count": 1,
   "id": "a9e9dc54",
   "metadata": {},
   "outputs": [
    {
     "name": "stdout",
     "output_type": "stream",
     "text": [
      "                        Title  Price        Date\n",
      "0  Foods & Flavors from Nepal   20.8  2025-07-01\n",
      "1  Foods & Flavors from Nepal   20.8  2025-07-01\n",
      "2  Foods & Flavors from Nepal   20.8  2025-07-01\n"
     ]
    }
   ],
   "source": [
    "import pandas as pd\n",
    "\n",
    "df= pd.read_csv('DataSet.csv')\n",
    "print(df)"
   ]
  },
  {
   "cell_type": "code",
   "execution_count": null,
   "id": "a66f5a36",
   "metadata": {},
   "outputs": [],
   "source": [
    "# If uou want to try sending yourself an email (just for fun) when a price hits below a certain level you can try it\n",
    "# out with this script\n",
    "\n",
    "def send_mail():\n",
    "    server = smtplib.SMTP_SSL('smtp.gmail.com',465)\n",
    "    server.ehlo()\n",
    "    #server.starttls()\n",
    "    server.ehlo()\n",
    "    server.login('sujalrijal@gmail.com','xxxxxxxxxxxxxx')\n",
    "    \n",
    "    subject = \"Bang! Bang! Bang! FBI-- OPEN THE F**ING DOOR\"\n",
    "    body = \"Suprise MF https://www.amazon.com/Foods-Flavors-Nepal-Jyoti-Pathak/dp/0781814375/ref=sr_1_3?sr=8-3\"\n",
    "\n",
    "    msg = f\"Subject: {subject}\\n\\n{body}\"\n",
    "    \n",
    "    server.sendmail(\n",
    "        'sujalrijal@gmail.com',\n",
    "        msg\n",
    "\n",
    "    )"
   ]
  }
 ],
 "metadata": {
  "kernelspec": {
   "display_name": "Python 3",
   "language": "python",
   "name": "python3"
  },
  "language_info": {
   "codemirror_mode": {
    "name": "ipython",
    "version": 3
   },
   "file_extension": ".py",
   "mimetype": "text/x-python",
   "name": "python",
   "nbconvert_exporter": "python",
   "pygments_lexer": "ipython3",
   "version": "3.13.5"
  }
 },
 "nbformat": 4,
 "nbformat_minor": 5
}
